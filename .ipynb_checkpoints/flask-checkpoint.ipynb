{
 "cells": [
  {
   "cell_type": "code",
   "execution_count": 3,
   "id": "11d8c1ca",
   "metadata": {},
   "outputs": [],
   "source": [
    "from flask import Flask"
   ]
  },
  {
   "cell_type": "code",
   "execution_count": 2,
   "id": "57cd2172",
   "metadata": {},
   "outputs": [
    {
     "name": "stdout",
     "output_type": "stream",
     "text": [
      " * Serving Flask app \"__main__\" (lazy loading)\n",
      " * Environment: production\n",
      "\u001b[31m   WARNING: This is a development server. Do not use it in a production deployment.\u001b[0m\n",
      "\u001b[2m   Use a production WSGI server instead.\u001b[0m\n",
      " * Debug mode: off\n"
     ]
    },
    {
     "name": "stderr",
     "output_type": "stream",
     "text": [
      " * Running on http://127.0.0.1:5000/ (Press CTRL+C to quit)\n",
      "127.0.0.1 - - [19/May/2022 11:28:29] \"GET / HTTP/1.1\" 200 -\n",
      "127.0.0.1 - - [19/May/2022 11:28:30] \"GET /favicon.ico HTTP/1.1\" 404 -\n"
     ]
    }
   ],
   "source": [
    "app = Flask(__name__)\n",
    "\n",
    "@app.route('/')\n",
    "def hello_world():\n",
    "    return 'Hello World!'\n",
    "\n",
    "if __name__ == '__main__':\n",
    "    app.run()"
   ]
  },
  {
   "cell_type": "code",
   "execution_count": 3,
   "id": "42de48fd",
   "metadata": {},
   "outputs": [],
   "source": [
    "def log_func():\n",
    "    print('loggin')"
   ]
  },
  {
   "cell_type": "code",
   "execution_count": 4,
   "id": "194b67fc",
   "metadata": {},
   "outputs": [
    {
     "name": "stdout",
     "output_type": "stream",
     "text": [
      "loggin\n"
     ]
    }
   ],
   "source": [
    "log_func()"
   ]
  },
  {
   "cell_type": "code",
   "execution_count": 5,
   "id": "571ee5bb",
   "metadata": {},
   "outputs": [],
   "source": [
    "def outer_func(function): # 함수를 매개변수로 받음\n",
    "    def inner_func(): # 내부 함수 : 받은 함수에 실행시키면서 새로운 내용을 부가\n",
    "        print('decoration added')\n",
    "        function()\n",
    "    return inner_func # 내부함수를 리턴"
   ]
  },
  {
   "cell_type": "code",
   "execution_count": 6,
   "id": "070316b5",
   "metadata": {},
   "outputs": [
    {
     "name": "stdout",
     "output_type": "stream",
     "text": [
      "decoration added\n",
      "loggin\n"
     ]
    }
   ],
   "source": [
    "return_func = outer_func(log_func)\n",
    "return_func()"
   ]
  },
  {
   "cell_type": "code",
   "execution_count": 7,
   "id": "fe42831b",
   "metadata": {},
   "outputs": [],
   "source": [
    "@outer_func\n",
    "def log_func():\n",
    "    print('logging')"
   ]
  },
  {
   "cell_type": "code",
   "execution_count": 8,
   "id": "cfed303e",
   "metadata": {},
   "outputs": [
    {
     "name": "stdout",
     "output_type": "stream",
     "text": [
      "decoration added\n",
      "logging\n"
     ]
    }
   ],
   "source": [
    "log_func()"
   ]
  },
  {
   "cell_type": "code",
   "execution_count": 9,
   "id": "002c3cea",
   "metadata": {},
   "outputs": [],
   "source": [
    "hello_google = \"\"\"\n",
    "<img class=\"lnXdpd\" alt=\"Google\" height=\"92\" src=\"/images/branding/googlelogo/2x/googlelogo_color_272x92dp.png\" srcset=\"/images/branding/googlelogo/1x/googlelogo_color_272x92dp.png 1x, /images/branding/googlelogo/2x/googlelogo_color_272x92dp.png 2x\" width=\"272\" data-atf=\"1\" data-frt=\"0\">\n",
    "\"\"\""
   ]
  },
  {
   "cell_type": "code",
   "execution_count": null,
   "id": "01b62f5a",
   "metadata": {},
   "outputs": [
    {
     "name": "stdout",
     "output_type": "stream",
     "text": [
      " * Serving Flask app \"__main__\" (lazy loading)\n",
      " * Environment: production\n",
      "\u001b[31m   WARNING: This is a development server. Do not use it in a production deployment.\u001b[0m\n",
      "\u001b[2m   Use a production WSGI server instead.\u001b[0m\n",
      " * Debug mode: off\n"
     ]
    },
    {
     "name": "stderr",
     "output_type": "stream",
     "text": [
      " * Running on all addresses.\n",
      "   WARNING: This is a development server. Do not use it in a production deployment.\n",
      " * Running on http://192.168.0.25:8080/ (Press CTRL+C to quit)\n",
      "192.168.0.25 - - [19/May/2022 11:29:03] \"GET / HTTP/1.1\" 200 -\n",
      "[2022-05-19 11:29:06,678] ERROR in app: Exception on /google [GET]\n",
      "Traceback (most recent call last):\n",
      "  File \"C:\\Users\\bitcamp\\anaconda3\\lib\\site-packages\\flask\\app.py\", line 2117, in make_response\n",
      "    rv = self.response_class.force_type(rv, request.environ)\n",
      "  File \"C:\\Users\\bitcamp\\anaconda3\\lib\\site-packages\\werkzeug\\wrappers\\response.py\", line 263, in force_type\n",
      "    response = Response(*run_wsgi_app(response, environ))\n",
      "  File \"C:\\Users\\bitcamp\\anaconda3\\lib\\site-packages\\werkzeug\\test.py\", line 1231, in run_wsgi_app\n",
      "    app_rv = app(environ, start_response)\n",
      "TypeError: hello_google() takes 0 positional arguments but 2 were given\n",
      "\n",
      "During handling of the above exception, another exception occurred:\n",
      "\n",
      "Traceback (most recent call last):\n",
      "  File \"C:\\Users\\bitcamp\\anaconda3\\lib\\site-packages\\flask\\app.py\", line 2447, in wsgi_app\n",
      "    response = self.full_dispatch_request()\n",
      "  File \"C:\\Users\\bitcamp\\anaconda3\\lib\\site-packages\\flask\\app.py\", line 1953, in full_dispatch_request\n",
      "    return self.finalize_request(rv)\n",
      "  File \"C:\\Users\\bitcamp\\anaconda3\\lib\\site-packages\\flask\\app.py\", line 1968, in finalize_request\n",
      "    response = self.make_response(rv)\n",
      "  File \"C:\\Users\\bitcamp\\anaconda3\\lib\\site-packages\\flask\\app.py\", line 2125, in make_response\n",
      "    reraise(TypeError, new_error, sys.exc_info()[2])\n",
      "  File \"C:\\Users\\bitcamp\\anaconda3\\lib\\site-packages\\flask\\_compat.py\", line 38, in reraise\n",
      "    raise value.with_traceback(tb)\n",
      "  File \"C:\\Users\\bitcamp\\anaconda3\\lib\\site-packages\\flask\\app.py\", line 2117, in make_response\n",
      "    rv = self.response_class.force_type(rv, request.environ)\n",
      "  File \"C:\\Users\\bitcamp\\anaconda3\\lib\\site-packages\\werkzeug\\wrappers\\response.py\", line 263, in force_type\n",
      "    response = Response(*run_wsgi_app(response, environ))\n",
      "  File \"C:\\Users\\bitcamp\\anaconda3\\lib\\site-packages\\werkzeug\\test.py\", line 1231, in run_wsgi_app\n",
      "    app_rv = app(environ, start_response)\n",
      "TypeError: hello_google() takes 0 positional arguments but 2 were given\n",
      "The view function did not return a valid response. The return type must be a string, dict, tuple, Response instance, or WSGI callable, but it was a function.\n",
      "192.168.0.25 - - [19/May/2022 11:29:06] \"GET /google HTTP/1.1\" 500 -\n",
      "192.168.0.25 - - [19/May/2022 11:29:12] \"GET / HTTP/1.1\" 200 -\n"
     ]
    }
   ],
   "source": [
    "from flask import Flask\n",
    "\n",
    "app = Flask(__name__)\n",
    "\n",
    "@app.route('/')\n",
    "def hello():\n",
    "    return '<h1>Hello World<h1>'\n",
    "\n",
    "@app.route('/hello')\n",
    "def hello_flask():\n",
    "    return '<h1>Hello Flask!!</h1>'\n",
    "\n",
    "@app.route('/first')\n",
    "def hello_first():\n",
    "    return \"<h3>Hello First</h3>\"\n",
    "\n",
    "@app.route('/google')\n",
    "def hello_google():\n",
    "    return hello_google\n",
    "\n",
    "if __name__ == '__main__':\n",
    "    app.run(host='0.0.0.0', port='8080')"
   ]
  },
  {
   "cell_type": "code",
   "execution_count": null,
   "id": "d8c1ac88",
   "metadata": {},
   "outputs": [],
   "source": []
  },
  {
   "cell_type": "code",
   "execution_count": null,
   "id": "87dce0f1",
   "metadata": {},
   "outputs": [],
   "source": [
    "from flask import Flask\n",
    "\n",
    "app = Flask(__name__)\n",
    "\n",
    "@app.route('/')\n",
    "def hello():\n",
    "    return '<h1>Hello World<h1>'\n",
    "\n",
    "@app.route('/profile/<username>')\n",
    "def get_profile(username):\n",
    "    return \"profile:\" + username\n",
    "\n",
    "@app.route('/first/<uername>')\n",
    "def get_first():\n",
    "    return \"<h3>Hello\" + username + \"!</h3>\"\n",
    "\n",
    "if __name__ == '__main__':\n",
    "    app.run(host='0.0.0.0', port='8080')"
   ]
  },
  {
   "cell_type": "code",
   "execution_count": null,
   "id": "33591b01",
   "metadata": {},
   "outputs": [],
   "source": []
  },
  {
   "cell_type": "code",
   "execution_count": 1,
   "id": "6520a67b",
   "metadata": {},
   "outputs": [],
   "source": [
    "# 데이터를 리턴..\n",
    "# rest api"
   ]
  },
  {
   "cell_type": "code",
   "execution_count": 2,
   "id": "4d189248",
   "metadata": {},
   "outputs": [],
   "source": [
    "from flask import Flask, jsonify"
   ]
  },
  {
   "cell_type": "code",
   "execution_count": 6,
   "id": "7dadf4d8",
   "metadata": {},
   "outputs": [
    {
     "name": "stdout",
     "output_type": "stream",
     "text": [
      " * Serving Flask app \"__main__\" (lazy loading)\n",
      " * Environment: production\n",
      "\u001b[31m   WARNING: This is a development server. Do not use it in a production deployment.\u001b[0m\n",
      "\u001b[2m   Use a production WSGI server instead.\u001b[0m\n",
      " * Debug mode: off\n"
     ]
    },
    {
     "name": "stderr",
     "output_type": "stream",
     "text": [
      " * Running on all addresses.\n",
      "   WARNING: This is a development server. Do not use it in a production deployment.\n",
      " * Running on http://192.168.0.25:8080/ (Press CTRL+C to quit)\n",
      "192.168.0.25 - - [19/May/2022 11:48:11] \"GET / HTTP/1.1\" 404 -\n",
      "192.168.0.25 - - [19/May/2022 11:48:56] \"GET / HTTP/1.1\" 404 -\n",
      "192.168.0.25 - - [19/May/2022 11:49:12] \"GET /json_test HTTP/1.1\" 200 -\n"
     ]
    }
   ],
   "source": [
    "app = Flask(__name__)\n",
    "\n",
    "@app.route('/json_test')\n",
    "def hello_json():\n",
    "    data = {'name': '김대기', 'family': '김'}\n",
    "    return jsonify(data)\n",
    "\n",
    "@app.route('/server_info')\n",
    "def server_json():\n",
    "    data = {'server_name': '0.0.0.0', 'server_port': '8080'}\n",
    "    return jsonify(data)\n",
    "\n",
    "if __name__ == '__main__':\n",
    "    app.run(host='0.0.0.0', port='8080')"
   ]
  },
  {
   "cell_type": "code",
   "execution_count": null,
   "id": "62a96c6e",
   "metadata": {},
   "outputs": [],
   "source": []
  },
  {
   "cell_type": "code",
   "execution_count": null,
   "id": "87986ab4",
   "metadata": {},
   "outputs": [
    {
     "name": "stdout",
     "output_type": "stream",
     "text": [
      " * Serving Flask app \"__main__\" (lazy loading)\n",
      " * Environment: production\n",
      "\u001b[31m   WARNING: This is a development server. Do not use it in a production deployment.\u001b[0m\n",
      "\u001b[2m   Use a production WSGI server instead.\u001b[0m\n",
      " * Debug mode: off\n"
     ]
    },
    {
     "name": "stderr",
     "output_type": "stream",
     "text": [
      " * Running on all addresses.\n",
      "   WARNING: This is a development server. Do not use it in a production deployment.\n",
      " * Running on http://192.168.0.25:8080/ (Press CTRL+C to quit)\n",
      "192.168.0.25 - - [19/May/2022 11:52:50] \"GET / HTTP/1.1\" 404 -\n",
      "192.168.0.25 - - [19/May/2022 11:54:01] \"GET / HTTP/1.1\" 404 -\n",
      "192.168.0.25 - - [19/May/2022 11:54:04] \"GET /login HTTP/1.1\" 200 -\n",
      "192.168.0.25 - - [19/May/2022 11:54:52] \"GET /login?username=dave HTTP/1.1\" 200 -\n",
      "192.168.0.25 - - [19/May/2022 11:55:04] \"GET /login?user_name=dave HTTP/1.1\" 200 -\n",
      "192.168.0.25 - - [19/May/2022 12:00:34] \"GET / HTTP/1.1\" 404 -\n",
      "192.168.0.25 - - [19/May/2022 12:01:12] \"GET / HTTP/1.1\" 404 -\n",
      "192.168.0.25 - - [19/May/2022 12:01:16] \"GET / HTTP/1.1\" 404 -\n",
      "192.168.0.25 - - [19/May/2022 12:04:04] \"GET / HTTP/1.1\" 404 -\n"
     ]
    }
   ],
   "source": [
    "from flask import Flask, jsonify, request\n",
    "\n",
    "app = Flask(__name__)\n",
    "\n",
    "@app.route('/login')\n",
    "def login():\n",
    "    \n",
    "    username = request.args.get('user_name')\n",
    "    \n",
    "    if username == 'dave':\n",
    "        return_data = {'auth': 'sucess'}\n",
    "    else:\n",
    "        return_data = {'auth': 'failed'}\n",
    "        \n",
    "    return jsonify(return_data)\n",
    "\n",
    "if __name__ == '__main__':\n",
    "    app.run(host='0.0.0.0', port='8080')"
   ]
  },
  {
   "cell_type": "code",
   "execution_count": null,
   "id": "bfe312bc",
   "metadata": {},
   "outputs": [],
   "source": []
  },
  {
   "cell_type": "code",
   "execution_count": null,
   "id": "d17fbfd0",
   "metadata": {},
   "outputs": [],
   "source": []
  },
  {
   "cell_type": "code",
   "execution_count": null,
   "id": "063e64d7",
   "metadata": {},
   "outputs": [],
   "source": []
  },
  {
   "cell_type": "code",
   "execution_count": null,
   "id": "8a641a16",
   "metadata": {},
   "outputs": [],
   "source": []
  },
  {
   "cell_type": "code",
   "execution_count": null,
   "id": "0b5e8981",
   "metadata": {},
   "outputs": [],
   "source": []
  },
  {
   "cell_type": "code",
   "execution_count": null,
   "id": "329813c4",
   "metadata": {},
   "outputs": [],
   "source": []
  },
  {
   "cell_type": "code",
   "execution_count": null,
   "id": "8a10f628",
   "metadata": {},
   "outputs": [],
   "source": []
  },
  {
   "cell_type": "code",
   "execution_count": null,
   "id": "3d2155ca",
   "metadata": {},
   "outputs": [],
   "source": []
  },
  {
   "cell_type": "code",
   "execution_count": null,
   "id": "bc4c61fe",
   "metadata": {},
   "outputs": [],
   "source": []
  }
 ],
 "metadata": {
  "kernelspec": {
   "display_name": "Python 3 (ipykernel)",
   "language": "python",
   "name": "python3"
  },
  "language_info": {
   "codemirror_mode": {
    "name": "ipython",
    "version": 3
   },
   "file_extension": ".py",
   "mimetype": "text/x-python",
   "name": "python",
   "nbconvert_exporter": "python",
   "pygments_lexer": "ipython3",
   "version": "3.9.7"
  }
 },
 "nbformat": 4,
 "nbformat_minor": 5
}
