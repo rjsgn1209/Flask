{
 "cells": [
  {
   "cell_type": "code",
   "execution_count": null,
   "id": "a0a31314",
   "metadata": {},
   "outputs": [],
   "source": [
    "# django\n",
    "# flask\n",
    "# fast.ai"
   ]
  },
  {
   "cell_type": "code",
   "execution_count": null,
   "id": "53a745f0",
   "metadata": {},
   "outputs": [],
   "source": []
  },
  {
   "cell_type": "code",
   "execution_count": 1,
   "id": "5d260c64",
   "metadata": {
    "collapsed": true
   },
   "outputs": [
    {
     "name": "stdout",
     "output_type": "stream",
     "text": [
      "Requirement already satisfied: flask in c:\\users\\bitcamp\\anaconda3\\lib\\site-packages (1.1.2)\n",
      "Requirement already satisfied: click>=5.1 in c:\\users\\bitcamp\\anaconda3\\lib\\site-packages (from flask) (8.0.3)\n",
      "Requirement already satisfied: Jinja2>=2.10.1 in c:\\users\\bitcamp\\anaconda3\\lib\\site-packages (from flask) (2.11.3)\n",
      "Requirement already satisfied: itsdangerous>=0.24 in c:\\users\\bitcamp\\anaconda3\\lib\\site-packages (from flask) (2.0.1)\n",
      "Requirement already satisfied: Werkzeug>=0.15 in c:\\users\\bitcamp\\anaconda3\\lib\\site-packages (from flask) (2.0.2)\n",
      "Requirement already satisfied: colorama in c:\\users\\bitcamp\\anaconda3\\lib\\site-packages (from click>=5.1->flask) (0.4.4)\n",
      "Requirement already satisfied: importlib-metadata in c:\\users\\bitcamp\\anaconda3\\lib\\site-packages (from click>=5.1->flask) (4.8.1)\n",
      "Requirement already satisfied: MarkupSafe>=0.23 in c:\\users\\bitcamp\\anaconda3\\lib\\site-packages (from Jinja2>=2.10.1->flask) (2.0.1)\n",
      "Requirement already satisfied: zipp>=0.5 in c:\\users\\bitcamp\\anaconda3\\lib\\site-packages (from importlib-metadata->click>=5.1->flask) (3.6.0)\n",
      "Requirement already satisfied: typing-extensions>=3.6.4 in c:\\users\\bitcamp\\anaconda3\\lib\\site-packages (from importlib-metadata->click>=5.1->flask) (3.10.0.2)\n"
     ]
    },
    {
     "name": "stderr",
     "output_type": "stream",
     "text": [
      "WARNING: You are using pip version 22.0.4; however, version 22.1 is available.\n",
      "You should consider upgrading via the 'C:\\Users\\bitcamp\\anaconda3\\python.exe -m pip install --upgrade pip' command.\n"
     ]
    }
   ],
   "source": [
    "!pip install flask"
   ]
  },
  {
   "cell_type": "code",
   "execution_count": 2,
   "id": "705a0652",
   "metadata": {},
   "outputs": [],
   "source": [
    "from flask import Flask"
   ]
  },
  {
   "cell_type": "code",
   "execution_count": 3,
   "id": "2cd2c62f",
   "metadata": {},
   "outputs": [
    {
     "data": {
      "text/plain": [
       "'__main__'"
      ]
     },
     "execution_count": 3,
     "metadata": {},
     "output_type": "execute_result"
    }
   ],
   "source": [
    "__name__  # 현재의 작업 위치"
   ]
  },
  {
   "cell_type": "code",
   "execution_count": 4,
   "id": "2b2283ae",
   "metadata": {},
   "outputs": [],
   "source": [
    "app = Flask(__name__)"
   ]
  },
  {
   "cell_type": "code",
   "execution_count": 6,
   "id": "1edb701b",
   "metadata": {},
   "outputs": [
    {
     "data": {
      "text/plain": [
       "'Flask'"
      ]
     },
     "execution_count": 6,
     "metadata": {},
     "output_type": "execute_result"
    }
   ],
   "source": [
    "Flask.__name__  # 외부 모듈 이름"
   ]
  },
  {
   "cell_type": "code",
   "execution_count": null,
   "id": "b46988fc",
   "metadata": {},
   "outputs": [],
   "source": []
  },
  {
   "cell_type": "code",
   "execution_count": 7,
   "id": "3138c366",
   "metadata": {},
   "outputs": [
    {
     "name": "stdout",
     "output_type": "stream",
     "text": [
      "3\n",
      "4\n"
     ]
    }
   ],
   "source": [
    "def add_one(data):\n",
    "    return data + 1\n",
    "\n",
    "def add_two(data):\n",
    "    return data + 2\n",
    "\n",
    "# \n",
    "if __name__ == '__main__':  # 직접 코드를 작성해서 실행할 경우만 실행되도록\n",
    "    print(add_one(2))\n",
    "    print(add_two(2))"
   ]
  },
  {
   "cell_type": "code",
   "execution_count": 8,
   "id": "6af3d4be",
   "metadata": {},
   "outputs": [],
   "source": [
    "def add_one(data):\n",
    "    return data + 1\n",
    "\n",
    "def add_two(data):\n",
    "    return data + 2\n",
    "\n",
    "# 외부 모듈에서 실행할 경우 실행되지 않도록..\n",
    "if Flask.__name__ == '__main__':\n",
    "    print(add_one(2))\n",
    "    print(add_two(2))"
   ]
  },
  {
   "cell_type": "code",
   "execution_count": null,
   "id": "ddfaeab3",
   "metadata": {},
   "outputs": [],
   "source": []
  },
  {
   "cell_type": "code",
   "execution_count": 10,
   "id": "401616a8",
   "metadata": {},
   "outputs": [
    {
     "name": "stdout",
     "output_type": "stream",
     "text": [
      " * Serving Flask app \"__main__\" (lazy loading)\n",
      " * Environment: production\n",
      "\u001b[31m   WARNING: This is a development server. Do not use it in a production deployment.\u001b[0m\n",
      "\u001b[2m   Use a production WSGI server instead.\u001b[0m\n",
      " * Debug mode: off\n"
     ]
    },
    {
     "name": "stderr",
     "output_type": "stream",
     "text": [
      " * Running on http://127.0.0.1:8080/ (Press CTRL+C to quit)\n",
      "127.0.0.1 - - [19/May/2022 11:01:43] \"GET /hello HTTP/1.1\" 200 -\n",
      "127.0.0.1 - - [19/May/2022 11:01:46] \"GET /hello HTTP/1.1\" 404 -\n",
      "127.0.0.1 - - [19/May/2022 11:01:50] \"GET / HTTP/1.1\" 200 -\n"
     ]
    }
   ],
   "source": [
    "from flask import Flask\n",
    "\n",
    "app = Flask(__name__)  # flask web server 객체 생성\n",
    "\n",
    "# decorator : 아래의 함수를 꾸며주는 기능, 원래 함수에 기능추가한다\n",
    "# route : 경로를 안내...\n",
    "# /hello로 경로로 접근할 때, test()함수를 실행시켜라..  함수의 실행 경로를 안내하는\n",
    "@app.route('/hello_flask')  \n",
    "def test():\n",
    "    return 'hello flask'\n",
    "\n",
    "if __name__ == \"__main__\":\n",
    "    app.run(host='127.0.0.1', port='8080') # webserver 실행. 위치: local pc에, 포트 : 8080 "
   ]
  },
  {
   "cell_type": "code",
   "execution_count": null,
   "id": "ab08abb8",
   "metadata": {},
   "outputs": [],
   "source": []
  },
  {
   "cell_type": "code",
   "execution_count": 14,
   "id": "5e9cc056",
   "metadata": {},
   "outputs": [],
   "source": [
    "def log_func():\n",
    "    print('logging')"
   ]
  },
  {
   "cell_type": "code",
   "execution_count": 15,
   "id": "4d4a0e06",
   "metadata": {},
   "outputs": [
    {
     "name": "stdout",
     "output_type": "stream",
     "text": [
      "logging\n"
     ]
    }
   ],
   "source": [
    "log_func()"
   ]
  },
  {
   "cell_type": "code",
   "execution_count": 20,
   "id": "32ab0191",
   "metadata": {},
   "outputs": [],
   "source": [
    "def outer_func(function):  # 함수를 매개변수로 받음\n",
    "    def inner_func():  # 내부함수 : 받은 함수를 실행시키면서 새로운 내용을 부가\n",
    "        print('decoration added')\n",
    "        function()\n",
    "    return inner_func  # 내부함수를 리턴"
   ]
  },
  {
   "cell_type": "code",
   "execution_count": 22,
   "id": "68b878a1",
   "metadata": {},
   "outputs": [
    {
     "name": "stdout",
     "output_type": "stream",
     "text": [
      "decoration added\n",
      "decoration added\n",
      "logging\n"
     ]
    }
   ],
   "source": [
    "return_func = outer_func(log_func)\n",
    "return_func()"
   ]
  },
  {
   "cell_type": "code",
   "execution_count": 23,
   "id": "ce6459bc",
   "metadata": {},
   "outputs": [],
   "source": [
    "@outer_func\n",
    "def log_func():\n",
    "    print('logging')"
   ]
  },
  {
   "cell_type": "code",
   "execution_count": 24,
   "id": "2817ffb2",
   "metadata": {},
   "outputs": [
    {
     "name": "stdout",
     "output_type": "stream",
     "text": [
      "decoration added\n",
      "logging\n"
     ]
    }
   ],
   "source": [
    "log_func()"
   ]
  },
  {
   "cell_type": "code",
   "execution_count": null,
   "id": "10e4142e",
   "metadata": {},
   "outputs": [],
   "source": []
  },
  {
   "cell_type": "code",
   "execution_count": 25,
   "id": "da54ae86",
   "metadata": {},
   "outputs": [
    {
     "name": "stdout",
     "output_type": "stream",
     "text": [
      " * Serving Flask app \"__main__\" (lazy loading)\n",
      " * Environment: production\n",
      "\u001b[31m   WARNING: This is a development server. Do not use it in a production deployment.\u001b[0m\n",
      "\u001b[2m   Use a production WSGI server instead.\u001b[0m\n",
      " * Debug mode: off\n"
     ]
    },
    {
     "name": "stderr",
     "output_type": "stream",
     "text": [
      " * Running on all addresses.\n",
      "   WARNING: This is a development server. Do not use it in a production deployment.\n",
      " * Running on http://192.168.0.12:8080/ (Press CTRL+C to quit)\n",
      "127.0.0.1 - - [19/May/2022 11:16:49] \"GET / HTTP/1.1\" 200 -\n",
      "127.0.0.1 - - [19/May/2022 11:17:18] \"GET /hello HTTP/1.1\" 200 -\n",
      "127.0.0.1 - - [19/May/2022 11:17:27] \"GET /first HTTP/1.1\" 200 -\n"
     ]
    }
   ],
   "source": [
    "from flask import Flask\n",
    "\n",
    "app = Flask(__name__)\n",
    "\n",
    "@app.route('/')\n",
    "def hello():\n",
    "    return '<h1>Hello World</h1>'\n",
    "\n",
    "@app.route('/hello')\n",
    "def hello_flask():\n",
    "    return \"<h2>Hello Flash!!</h2>\"\n",
    "\n",
    "@app.route('/first')\n",
    "def hello_first():\n",
    "    return \"<h3>Hello First</h3>\"\n",
    "\n",
    "if __name__ == '__main__':\n",
    "    app.run(host='0.0.0.0', port='8080')"
   ]
  },
  {
   "cell_type": "code",
   "execution_count": null,
   "id": "014bc4c2",
   "metadata": {},
   "outputs": [],
   "source": []
  },
  {
   "cell_type": "code",
   "execution_count": null,
   "id": "9a157ac8",
   "metadata": {},
   "outputs": [],
   "source": []
  },
  {
   "cell_type": "code",
   "execution_count": 31,
   "id": "0095f640",
   "metadata": {},
   "outputs": [
    {
     "name": "stdout",
     "output_type": "stream",
     "text": [
      " * Serving Flask app \"__main__\" (lazy loading)\n",
      " * Environment: production\n",
      "\u001b[31m   WARNING: This is a development server. Do not use it in a production deployment.\u001b[0m\n",
      "\u001b[2m   Use a production WSGI server instead.\u001b[0m\n",
      " * Debug mode: off\n"
     ]
    },
    {
     "name": "stderr",
     "output_type": "stream",
     "text": [
      " * Running on all addresses.\n",
      "   WARNING: This is a development server. Do not use it in a production deployment.\n",
      " * Running on http://192.168.0.12:8080/ (Press CTRL+C to quit)\n",
      "127.0.0.1 - - [19/May/2022 11:24:16] \"GET /google HTTP/1.1\" 200 -\n",
      "127.0.0.1 - - [19/May/2022 11:24:16] \"GET /new_tab_page.js HTTP/1.1\" 404 -\n",
      "127.0.0.1 - - [19/May/2022 11:24:16] \"GET /shared_vars.css HTTP/1.1\" 404 -\n",
      "127.0.0.1 - - [19/May/2022 11:24:31] \"GET /google HTTP/1.1\" 200 -\n",
      "127.0.0.1 - - [19/May/2022 11:24:31] \"GET /new_tab_page.js HTTP/1.1\" 404 -\n",
      "127.0.0.1 - - [19/May/2022 11:24:31] \"GET /shared_vars.css HTTP/1.1\" 404 -\n",
      "127.0.0.1 - - [19/May/2022 11:24:37] \"GET /flask HTTP/1.1\" 404 -\n",
      "127.0.0.1 - - [19/May/2022 11:24:41] \"GET /hello HTTP/1.1\" 200 -\n"
     ]
    }
   ],
   "source": [
    "from flask import Flask\n",
    "\n",
    "app = Flask(__name__)\n",
    "\n",
    "@app.route('/')\n",
    "def hello():\n",
    "    return '<h1>Hello World</h1>'\n",
    "\n",
    "@app.route('/hello')\n",
    "def hello_flask():\n",
    "    return \"<h2>Hello Flash!!</h2>\"\n",
    "\n",
    "@app.route('/first')\n",
    "def hello_first():\n",
    "    return \"<h3>Hello First</h3>\"\n",
    "\n",
    "if __name__ == '__main__':\n",
    "    app.run(host='0.0.0.0', port='8080')"
   ]
  },
  {
   "cell_type": "code",
   "execution_count": null,
   "id": "eef4bb1e",
   "metadata": {},
   "outputs": [],
   "source": []
  },
  {
   "cell_type": "code",
   "execution_count": 32,
   "id": "745fc635",
   "metadata": {},
   "outputs": [
    {
     "name": "stdout",
     "output_type": "stream",
     "text": [
      " * Serving Flask app \"__main__\" (lazy loading)\n",
      " * Environment: production\n",
      "\u001b[31m   WARNING: This is a development server. Do not use it in a production deployment.\u001b[0m\n",
      "\u001b[2m   Use a production WSGI server instead.\u001b[0m\n",
      " * Debug mode: off\n"
     ]
    },
    {
     "name": "stderr",
     "output_type": "stream",
     "text": [
      " * Running on all addresses.\n",
      "   WARNING: This is a development server. Do not use it in a production deployment.\n",
      " * Running on http://192.168.0.12:8080/ (Press CTRL+C to quit)\n",
      "127.0.0.1 - - [19/May/2022 11:28:26] \"GET / HTTP/1.1\" 200 -\n",
      "127.0.0.1 - - [19/May/2022 11:28:49] \"GET /profile HTTP/1.1\" 404 -\n",
      "127.0.0.1 - - [19/May/2022 11:29:07] \"GET /profile/flask HTTP/1.1\" 200 -\n"
     ]
    }
   ],
   "source": [
    "from flask import Flask\n",
    "\n",
    "app = Flask(__name__)\n",
    "\n",
    "@app.route('/')\n",
    "def hello():\n",
    "    return '<h1>Hello World</h1>'\n",
    "\n",
    "@app.route('/profile/<username>')\n",
    "def get_profile(username):\n",
    "    return \"profile: \" + username\n",
    "\n",
    "@app.route('/first/<username>')\n",
    "def get_first():\n",
    "    return \"<h3>Hello \" + username + \"!</h3>\"\n",
    "\n",
    "if __name__ == '__main__':\n",
    "    app.run(host='0.0.0.0', port='8080')"
   ]
  },
  {
   "cell_type": "code",
   "execution_count": null,
   "id": "4c96493e",
   "metadata": {},
   "outputs": [],
   "source": []
  },
  {
   "cell_type": "code",
   "execution_count": null,
   "id": "1392e607",
   "metadata": {},
   "outputs": [],
   "source": [
    "# 데이터를 리턴... \n",
    "# rest api "
   ]
  },
  {
   "cell_type": "code",
   "execution_count": 33,
   "id": "22944ec1",
   "metadata": {},
   "outputs": [],
   "source": [
    "from flask import Flask, jsonify"
   ]
  },
  {
   "cell_type": "code",
   "execution_count": 34,
   "id": "213eac80",
   "metadata": {
    "collapsed": true
   },
   "outputs": [
    {
     "name": "stdout",
     "output_type": "stream",
     "text": [
      " * Serving Flask app \"__main__\" (lazy loading)\n",
      " * Environment: production\n",
      "\u001b[31m   WARNING: This is a development server. Do not use it in a production deployment.\u001b[0m\n",
      "\u001b[2m   Use a production WSGI server instead.\u001b[0m\n",
      " * Debug mode: off\n"
     ]
    },
    {
     "name": "stderr",
     "output_type": "stream",
     "text": [
      " * Running on all addresses.\n",
      "   WARNING: This is a development server. Do not use it in a production deployment.\n",
      " * Running on http://192.168.0.12:8080/ (Press CTRL+C to quit)\n",
      "127.0.0.1 - - [19/May/2022 11:48:22] \"GET /json_test HTTP/1.1\" 200 -\n",
      "127.0.0.1 - - [19/May/2022 11:48:38] \"GET /server_info HTTP/1.1\" 200 -\n"
     ]
    }
   ],
   "source": [
    "app = Flask(__name__)\n",
    "\n",
    "@app.route('/json_test')\n",
    "def hello_json():\n",
    "    data = {'name':'대기', 'family':'김'}\n",
    "    return jsonify(data)\n",
    "\n",
    "@app.route('/server_info')\n",
    "def server_json():\n",
    "    data = {'server_name':'0.0.0.0', 'server_port':'8080'}\n",
    "    return jsonify(data)\n",
    "\n",
    "if __name__ == '__main__':\n",
    "    app.run(host='0.0.0.0', port='8080')"
   ]
  },
  {
   "cell_type": "code",
   "execution_count": null,
   "id": "372fca72",
   "metadata": {},
   "outputs": [],
   "source": []
  },
  {
   "cell_type": "code",
   "execution_count": 35,
   "id": "baf06263",
   "metadata": {},
   "outputs": [
    {
     "name": "stdout",
     "output_type": "stream",
     "text": [
      " * Serving Flask app \"__main__\" (lazy loading)\n",
      " * Environment: production\n",
      "\u001b[31m   WARNING: This is a development server. Do not use it in a production deployment.\u001b[0m\n",
      "\u001b[2m   Use a production WSGI server instead.\u001b[0m\n",
      " * Debug mode: off\n"
     ]
    },
    {
     "name": "stderr",
     "output_type": "stream",
     "text": [
      " * Running on all addresses.\n",
      "   WARNING: This is a development server. Do not use it in a production deployment.\n",
      " * Running on http://192.168.0.12:8080/ (Press CTRL+C to quit)\n",
      "127.0.0.1 - - [19/May/2022 11:53:15] \"GET /login HTTP/1.1\" 200 -\n",
      "127.0.0.1 - - [19/May/2022 11:54:23] \"GET /login/user_name=dave HTTP/1.1\" 404 -\n",
      "127.0.0.1 - - [19/May/2022 11:54:38] \"GET /login?user_name=dave HTTP/1.1\" 200 -\n"
     ]
    }
   ],
   "source": [
    "from flask import Flask, jsonify, request\n",
    "\n",
    "app = Flask(__name__)\n",
    "\n",
    "@app.route('/login')\n",
    "def login():\n",
    "    \n",
    "    username = request.args.get('user_name')\n",
    "    \n",
    "    if username == 'dave':\n",
    "        return_data = {'auth':'success'}\n",
    "    else:\n",
    "        return_data = {'auth':'failed'}\n",
    "        \n",
    "    return jsonify(return_data)\n",
    "\n",
    "if __name__ == '__main__':\n",
    "    app.run(host='0.0.0.0', port='8080')\n",
    "    \n",
    "#     http://localhost:8080/login?user_name=dave"
   ]
  },
  {
   "cell_type": "code",
   "execution_count": 36,
   "id": "70860e82",
   "metadata": {},
   "outputs": [
    {
     "data": {
      "text/plain": [
       "'D:\\\\flask'"
      ]
     },
     "execution_count": 36,
     "metadata": {},
     "output_type": "execute_result"
    }
   ],
   "source": [
    "pwd"
   ]
  },
  {
   "cell_type": "code",
   "execution_count": null,
   "id": "5cdc8a0d",
   "metadata": {},
   "outputs": [],
   "source": []
  },
  {
   "cell_type": "code",
   "execution_count": 37,
   "id": "073aa8c6",
   "metadata": {},
   "outputs": [],
   "source": [
    "# Jinja2 템플릿\n",
    "\n",
    "# {{ 변수명 }}\n",
    "\n",
    "# {% 파이썬 소스코드 %}"
   ]
  },
  {
   "cell_type": "code",
   "execution_count": null,
   "id": "1edb43d7",
   "metadata": {},
   "outputs": [],
   "source": []
  },
  {
   "cell_type": "code",
   "execution_count": null,
   "id": "394a56f1",
   "metadata": {},
   "outputs": [],
   "source": []
  },
  {
   "cell_type": "code",
   "execution_count": null,
   "id": "0f898a1e",
   "metadata": {},
   "outputs": [],
   "source": []
  },
  {
   "cell_type": "code",
   "execution_count": null,
   "id": "c926afa4",
   "metadata": {},
   "outputs": [],
   "source": []
  }
 ],
 "metadata": {
  "kernelspec": {
   "display_name": "Python 3 (ipykernel)",
   "language": "python",
   "name": "python3"
  },
  "language_info": {
   "codemirror_mode": {
    "name": "ipython",
    "version": 3
   },
   "file_extension": ".py",
   "mimetype": "text/x-python",
   "name": "python",
   "nbconvert_exporter": "python",
   "pygments_lexer": "ipython3",
   "version": "3.7.11"
  }
 },
 "nbformat": 4,
 "nbformat_minor": 5
}
